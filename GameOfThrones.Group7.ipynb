{
 "cells": [
  {
   "cell_type": "code",
   "execution_count": 135,
   "metadata": {},
   "outputs": [],
   "source": [
    "# import libraries\n",
    "import os\n",
    "import numpy as np\n",
    "import pandas as pd\n",
    "import matplotlib.pyplot as plt\n",
    "import seaborn as sns\n",
    "import scipy as scp\n",
    "sns.set()\n",
    "from scipy import stats\n",
    "from pandas import DataFrame\n",
    "from statsmodels.stats.anova import AnovaRM\n",
    "from statsmodels.stats.api import anova_lm\n",
    "from statsmodels.formula.api import ols"
   ]
  },
  {
   "cell_type": "markdown",
   "metadata": {},
   "source": [
    "# Read Data"
   ]
  },
  {
   "cell_type": "code",
   "execution_count": 136,
   "metadata": {},
   "outputs": [],
   "source": [
    "battles = pd.read_csv('./gameofthrones/battles.csv', index_col = 0, header = 0)\n",
    "deaths = pd.read_csv('./gameofthrones/character_deaths.csv', index_col = 0, header = 0)\n",
    "predictions = pd.read_csv('./gameofthrones/character_predictions.csv', index_col = 0, header = 0)"
   ]
  },
  {
   "cell_type": "code",
   "execution_count": 137,
   "metadata": {},
   "outputs": [
    {
     "name": "stdout",
     "output_type": "stream",
     "text": [
      "Battles columns:\n",
      " Index(['year', 'battle_number', 'attacker_king', 'defender_king', 'attacker_1',\n",
      "       'attacker_2', 'attacker_3', 'attacker_4', 'defender_1', 'defender_2',\n",
      "       'defender_3', 'defender_4', 'attacker_outcome', 'battle_type',\n",
      "       'major_death', 'major_capture', 'attacker_size', 'defender_size',\n",
      "       'attacker_commander', 'defender_commander', 'summer', 'location',\n",
      "       'region', 'note'],\n",
      "      dtype='object') \n",
      " \n",
      " Deaths columns: \n",
      " Index(['Allegiances', 'Death Year', 'Book of Death', 'Death Chapter',\n",
      "       'Book Intro Chapter', 'Gender', 'Nobility', 'GoT', 'CoK', 'SoS', 'FfC',\n",
      "       'DwD'],\n",
      "      dtype='object') \n",
      " \n",
      " Predictions columns:\n",
      " Index(['actual', 'pred', 'alive', 'plod', 'name', 'title', 'male', 'culture',\n",
      "       'dateOfBirth', 'DateoFdeath', 'mother', 'father', 'heir', 'house',\n",
      "       'spouse', 'book1', 'book2', 'book3', 'book4', 'book5', 'isAliveMother',\n",
      "       'isAliveFather', 'isAliveHeir', 'isAliveSpouse', 'isMarried', 'isNoble',\n",
      "       'age', 'numDeadRelations', 'boolDeadRelations', 'isPopular',\n",
      "       'popularity', 'isAlive'],\n",
      "      dtype='object')\n"
     ]
    }
   ],
   "source": [
    "print(\"Battles columns:\\n\", battles.columns, \"\\n\", \"\\n\",\n",
    "      \"Deaths columns: \\n\",deaths.columns, \"\\n\", \"\\n\",\n",
    "      \"Predictions columns:\\n\", predictions.columns)"
   ]
  },
  {
   "cell_type": "markdown",
   "metadata": {},
   "source": [
    "### summer/winter\n"
   ]
  },
  {
   "cell_type": "code",
   "execution_count": 138,
   "metadata": {},
   "outputs": [
    {
     "name": "stdout",
     "output_type": "stream",
     "text": [
      "F_onewayResult(statistic=3.7145004373641743, pvalue=0.19376606912486283) F_onewayResult(statistic=4.359959798198616, pvalue=0.1720310371550032)\n"
     ]
    }
   ],
   "source": [
    "mean = battles.groupby(\"summer\").mean().reset_index()\n",
    "print(scp.stats.f_oneway(mean['defender_size'], mean['summer']),\n",
    "      scp.stats.f_oneway(mean['attacker_size'], mean['summer']))"
   ]
  },
  {
   "cell_type": "markdown",
   "metadata": {},
   "source": [
    "# What a cruel world!!! "
   ]
  },
  {
   "cell_type": "code",
   "execution_count": 145,
   "metadata": {},
   "outputs": [
    {
     "data": {
      "text/plain": [
       "F_onewayResult(statistic=1.1323985146282722, pvalue=0.2957549542444754)"
      ]
     },
     "execution_count": 145,
     "metadata": {},
     "output_type": "execute_result"
    }
   ],
   "source": [
    "battles_clean =battles[[\"defender_size\", \"attacker_size\"]].dropna()\n",
    "scp.stats.f_oneway(battles_clean['defender_size'], battles_clean['attacker_size'])"
   ]
  },
  {
   "cell_type": "code",
   "execution_count": 120,
   "metadata": {},
   "outputs": [
    {
     "data": {
      "text/plain": [
       "<matplotlib.axes._subplots.AxesSubplot at 0x117e19ef0>"
      ]
     },
     "execution_count": 120,
     "metadata": {},
     "output_type": "execute_result"
    },
    {
     "data": {
      "image/png": "[encoded data removed]",
      "text/plain": [
       "<Figure size 432x288 with 1 Axes>"
      ]
     },
     "metadata": {},
     "output_type": "display_data"
    }
   ],
   "source": [
    "out=battles.groupby([\"summer\", 'attacker_outcome'])['attacker_size', 'defender_size'].mean().reset_index()\n",
    "sns.barplot(x = \"summer\", y= 'attacker_size', data=out)"
   ]
  },
  {
   "cell_type": "code",
   "execution_count": 122,
   "metadata": {},
   "outputs": [
    {
     "data": {
      "text/plain": [
       "F_onewayResult(statistic=3.24441042542099, pvalue=0.12174575455963191)"
      ]
     },
     "execution_count": 122,
     "metadata": {},
     "output_type": "execute_result"
    }
   ],
   "source": [
    "scp.stats.f_oneway(out['defender_size'], out['summer'])"
   ]
  },
  {
   "cell_type": "code",
   "execution_count": 123,
   "metadata": {},
   "outputs": [
    {
     "data": {
      "text/plain": [
       "F_onewayResult(statistic=1.7310101036408307, pvalue=0.23631647030887812)"
      ]
     },
     "execution_count": 123,
     "metadata": {},
     "output_type": "execute_result"
    }
   ],
   "source": [
    "scp.stats.f_oneway(out['attacker_size'], out['summer'])"
   ]
  },
  {
   "cell_type": "code",
   "execution_count": null,
   "metadata": {},
   "outputs": [],
   "source": []
  },
  {
   "cell_type": "code",
   "execution_count": null,
   "metadata": {},
   "outputs": [],
   "source": []
  },
  {
   "cell_type": "code",
   "execution_count": 99,
   "metadata": {},
   "outputs": [
    {
     "name": "stdout",
     "output_type": "stream",
     "text": [
      "[46, 156, 100]\n"
     ]
    },
    {
     "data": {
      "text/plain": [
       "Death Year\n",
       "297.0      3\n",
       "298.0     46\n",
       "299.0    156\n",
       "300.0    100\n",
       "alive    612\n",
       "Name: Allegiances, dtype: int64"
      ]
     },
     "execution_count": 99,
     "metadata": {},
     "output_type": "execute_result"
    }
   ],
   "source": [
    "death_per_year = deaths.groupby([\"Death Year\"])[\"Allegiances\"].count()\n",
    "death_per_year_n = [death_per_year[1],\n",
    "                death_per_year[2],\n",
    "                    death_per_year[3]]\n",
    "print(death_per_year_n)\n",
    "death_per_year "
   ]
  },
  {
   "cell_type": "code",
   "execution_count": 4,
   "metadata": {},
   "outputs": [
    {
     "data": {
      "text/plain": [
       "<matplotlib.axes._subplots.AxesSubplot at 0x1134e1898>"
      ]
     },
     "execution_count": 4,
     "metadata": {},
     "output_type": "execute_result"
    },
    {
     "data": {
      "image/png": "[encoded data removed]",
      "text/plain": [
       "<Figure size 432x288 with 1 Axes>"
      ]
     },
     "metadata": {},
     "output_type": "display_data"
    }
   ],
   "source": [
    "sns.set(style=\"whitegrid\")\n",
    "bat__per_year = battles.groupby(\"year\").count().reset_index()\n",
    "sns.barplot(x= \"year\",y=death_per_year = , data=bat__per_year)"
   ]
  },
  {
   "cell_type": "code",
   "execution_count": 147,
   "metadata": {},
   "outputs": [
    {
     "data": {
      "text/html": [
       "<div>\n",
       "<style scoped>\n",
       "    .dataframe tbody tr th:only-of-type {\n",
       "        vertical-align: middle;\n",
       "    }\n",
       "\n",
       "    .dataframe tbody tr th {\n",
       "        vertical-align: top;\n",
       "    }\n",
       "\n",
       "    .dataframe thead th {\n",
       "        text-align: right;\n",
       "    }\n",
       "</style>\n",
       "<table border=\"1\" class=\"dataframe\">\n",
       "  <thead>\n",
       "    <tr style=\"text-align: right;\">\n",
       "      <th></th>\n",
       "      <th>year</th>\n",
       "      <th>battle_number</th>\n",
       "      <th>attacker_king</th>\n",
       "      <th>defender_king</th>\n",
       "      <th>attacker_1</th>\n",
       "      <th>attacker_2</th>\n",
       "      <th>attacker_3</th>\n",
       "      <th>attacker_4</th>\n",
       "      <th>defender_1</th>\n",
       "      <th>defender_2</th>\n",
       "      <th>...</th>\n",
       "      <th>major_death</th>\n",
       "      <th>major_capture</th>\n",
       "      <th>attacker_size</th>\n",
       "      <th>defender_size</th>\n",
       "      <th>attacker_commander</th>\n",
       "      <th>defender_commander</th>\n",
       "      <th>summer</th>\n",
       "      <th>location</th>\n",
       "      <th>region</th>\n",
       "      <th>note</th>\n",
       "    </tr>\n",
       "  </thead>\n",
       "  <tbody>\n",
       "    <tr>\n",
       "      <th>0</th>\n",
       "      <td>298</td>\n",
       "      <td>7</td>\n",
       "      <td>7</td>\n",
       "      <td>7</td>\n",
       "      <td>7</td>\n",
       "      <td>2</td>\n",
       "      <td>0</td>\n",
       "      <td>0</td>\n",
       "      <td>7</td>\n",
       "      <td>0</td>\n",
       "      <td>...</td>\n",
       "      <td>7</td>\n",
       "      <td>7</td>\n",
       "      <td>5</td>\n",
       "      <td>6</td>\n",
       "      <td>7</td>\n",
       "      <td>7</td>\n",
       "      <td>7</td>\n",
       "      <td>7</td>\n",
       "      <td>7</td>\n",
       "      <td>0</td>\n",
       "    </tr>\n",
       "    <tr>\n",
       "      <th>1</th>\n",
       "      <td>299</td>\n",
       "      <td>20</td>\n",
       "      <td>19</td>\n",
       "      <td>18</td>\n",
       "      <td>20</td>\n",
       "      <td>3</td>\n",
       "      <td>0</td>\n",
       "      <td>0</td>\n",
       "      <td>20</td>\n",
       "      <td>0</td>\n",
       "      <td>...</td>\n",
       "      <td>20</td>\n",
       "      <td>20</td>\n",
       "      <td>13</td>\n",
       "      <td>9</td>\n",
       "      <td>19</td>\n",
       "      <td>14</td>\n",
       "      <td>19</td>\n",
       "      <td>19</td>\n",
       "      <td>20</td>\n",
       "      <td>5</td>\n",
       "    </tr>\n",
       "    <tr>\n",
       "      <th>2</th>\n",
       "      <td>300</td>\n",
       "      <td>11</td>\n",
       "      <td>10</td>\n",
       "      <td>10</td>\n",
       "      <td>11</td>\n",
       "      <td>5</td>\n",
       "      <td>3</td>\n",
       "      <td>2</td>\n",
       "      <td>10</td>\n",
       "      <td>2</td>\n",
       "      <td>...</td>\n",
       "      <td>10</td>\n",
       "      <td>10</td>\n",
       "      <td>6</td>\n",
       "      <td>4</td>\n",
       "      <td>11</td>\n",
       "      <td>7</td>\n",
       "      <td>11</td>\n",
       "      <td>11</td>\n",
       "      <td>11</td>\n",
       "      <td>0</td>\n",
       "    </tr>\n",
       "  </tbody>\n",
       "</table>\n",
       "<p>3 rows × 24 columns</p>\n",
       "</div>"
      ],
      "text/plain": [
       "   year  battle_number  attacker_king  defender_king  attacker_1  attacker_2  \\\n",
       "0   298              7              7              7           7           2   \n",
       "1   299             20             19             18          20           3   \n",
       "2   300             11             10             10          11           5   \n",
       "\n",
       "   attacker_3  attacker_4  defender_1  defender_2  ...  major_death  \\\n",
       "0           0           0           7           0  ...            7   \n",
       "1           0           0          20           0  ...           20   \n",
       "2           3           2          10           2  ...           10   \n",
       "\n",
       "   major_capture  attacker_size  defender_size  attacker_commander  \\\n",
       "0              7              5              6                   7   \n",
       "1             20             13              9                  19   \n",
       "2             10              6              4                  11   \n",
       "\n",
       "   defender_commander  summer  location  region  note  \n",
       "0                   7       7         7       7     0  \n",
       "1                  14      19        19      20     5  \n",
       "2                   7      11        11      11     0  \n",
       "\n",
       "[3 rows x 24 columns]"
      ]
     },
     "execution_count": 147,
     "metadata": {},
     "output_type": "execute_result"
    }
   ],
   "source": [
    "bat__per_year"
   ]
  },
  {
   "cell_type": "markdown",
   "metadata": {},
   "source": [
    "### we do not see any correlation between deaths and amount of buttles"
   ]
  },
  {
   "cell_type": "code",
   "execution_count": 148,
   "metadata": {},
   "outputs": [
    {
     "data": {
      "text/plain": [
       "F_onewayResult(statistic=7.568248452600721, pvalue=0.05131929705636451)"
      ]
     },
     "execution_count": 148,
     "metadata": {},
     "output_type": "execute_result"
    }
   ],
   "source": [
    "scp.stats.f_oneway(bat__per_year['battle_number'], death_per_year_n )"
   ]
  },
  {
   "cell_type": "code",
   "execution_count": null,
   "metadata": {},
   "outputs": [],
   "source": []
  },
  {
   "cell_type": "code",
   "execution_count": 66,
   "metadata": {},
   "outputs": [
    {
     "data": {
      "text/html": [
       "<div>\n",
       "<style scoped>\n",
       "    .dataframe tbody tr th:only-of-type {\n",
       "        vertical-align: middle;\n",
       "    }\n",
       "\n",
       "    .dataframe tbody tr th {\n",
       "        vertical-align: top;\n",
       "    }\n",
       "\n",
       "    .dataframe thead th {\n",
       "        text-align: right;\n",
       "    }\n",
       "</style>\n",
       "<table border=\"1\" class=\"dataframe\">\n",
       "  <thead>\n",
       "    <tr style=\"text-align: right;\">\n",
       "      <th></th>\n",
       "      <th>Death Year</th>\n",
       "      <th>Gender</th>\n",
       "      <th>0</th>\n",
       "    </tr>\n",
       "  </thead>\n",
       "  <tbody>\n",
       "    <tr>\n",
       "      <th>0</th>\n",
       "      <td>297</td>\n",
       "      <td>1</td>\n",
       "      <td>3</td>\n",
       "    </tr>\n",
       "    <tr>\n",
       "      <th>1</th>\n",
       "      <td>298</td>\n",
       "      <td>0</td>\n",
       "      <td>3</td>\n",
       "    </tr>\n",
       "    <tr>\n",
       "      <th>2</th>\n",
       "      <td>298</td>\n",
       "      <td>1</td>\n",
       "      <td>43</td>\n",
       "    </tr>\n",
       "    <tr>\n",
       "      <th>3</th>\n",
       "      <td>299</td>\n",
       "      <td>0</td>\n",
       "      <td>15</td>\n",
       "    </tr>\n",
       "    <tr>\n",
       "      <th>4</th>\n",
       "      <td>299</td>\n",
       "      <td>1</td>\n",
       "      <td>141</td>\n",
       "    </tr>\n",
       "    <tr>\n",
       "      <th>5</th>\n",
       "      <td>300</td>\n",
       "      <td>0</td>\n",
       "      <td>18</td>\n",
       "    </tr>\n",
       "    <tr>\n",
       "      <th>6</th>\n",
       "      <td>300</td>\n",
       "      <td>1</td>\n",
       "      <td>82</td>\n",
       "    </tr>\n",
       "    <tr>\n",
       "      <th>7</th>\n",
       "      <td>alive</td>\n",
       "      <td>0</td>\n",
       "      <td>121</td>\n",
       "    </tr>\n",
       "    <tr>\n",
       "      <th>8</th>\n",
       "      <td>alive</td>\n",
       "      <td>1</td>\n",
       "      <td>491</td>\n",
       "    </tr>\n",
       "  </tbody>\n",
       "</table>\n",
       "</div>"
      ],
      "text/plain": [
       "  Death Year  Gender    0\n",
       "0        297       1    3\n",
       "1        298       0    3\n",
       "2        298       1   43\n",
       "3        299       0   15\n",
       "4        299       1  141\n",
       "5        300       0   18\n",
       "6        300       1   82\n",
       "7      alive       0  121\n",
       "8      alive       1  491"
      ]
     },
     "execution_count": 66,
     "metadata": {},
     "output_type": "execute_result"
    }
   ],
   "source": [
    "deaths['Death Year'].fillna(\"alive\", inplace=True)\n",
    "death_per_year = deaths.groupby(['Death Year', \"Gender\"]).size().reset_index()\n",
    "death_per_year "
   ]
  },
  {
   "cell_type": "code",
   "execution_count": null,
   "metadata": {},
   "outputs": [],
   "source": [
    "anova(bat__per_year['battle_number'])"
   ]
  },
  {
   "cell_type": "code",
   "execution_count": 7,
   "metadata": {},
   "outputs": [
    {
     "data": {
      "text/plain": [
       "<matplotlib.axes._subplots.AxesSubplot at 0x10f95e5c0>"
      ]
     },
     "execution_count": 7,
     "metadata": {},
     "output_type": "execute_result"
    },
    {
     "data": {
      "image/png": "[encoded data removed]",
      "text/plain": [
       "<Figure size 432x288 with 1 Axes>"
      ]
     },
     "metadata": {},
     "output_type": "display_data"
    }
   ],
   "source": [
    "sns.set(style=\"whitegrid\")\n",
    "sns.barplot(x= 'Death Year',y='Allegiances', hue= \"Gender\", data=death_per_year)"
   ]
  },
  {
   "cell_type": "markdown",
   "metadata": {},
   "source": [
    "# Usually the ones who attack  - win!!! Such a logic world!"
   ]
  },
  {
   "cell_type": "code",
   "execution_count": 146,
   "metadata": {},
   "outputs": [
    {
     "data": {
      "text/plain": [
       "<matplotlib.axes._subplots.AxesSubplot at 0x11818cc88>"
      ]
     },
     "execution_count": 146,
     "metadata": {},
     "output_type": "execute_result"
    },
    {
     "data": {
      "image/png": "[encoded data removed]",
      "text/plain": [
       "<Figure size 432x288 with 1 Axes>"
      ]
     },
     "metadata": {},
     "output_type": "display_data"
    }
   ],
   "source": [
    "sns.set(style=\"white\")\n",
    "battles.groupby('attacker_outcome').size().plot(kind=\"bar\")"
   ]
  },
  {
   "cell_type": "markdown",
   "metadata": {},
   "source": [
    "# The most aggresive one is Joffrey/Tommen Baratheon"
   ]
  },
  {
   "cell_type": "code",
   "execution_count": 61,
   "metadata": {},
   "outputs": [
    {
     "data": {
      "text/plain": [
       "attacker_outcome  attacker_king             defender_king           \n",
       "loss              Joffrey/Tommen Baratheon  Robb Stark                  1\n",
       "                  Robb Stark                Joffrey/Tommen Baratheon    2\n",
       "                  Stannis Baratheon         Joffrey/Tommen Baratheon    1\n",
       "                                            Mance Rayder                1\n",
       "win               Balon/Euron Greyjoy       Balon/Euron Greyjoy         1\n",
       "                                            Joffrey/Tommen Baratheon    2\n",
       "                                            Robb Stark                  4\n",
       "                  Joffrey/Tommen Baratheon  Balon/Euron Greyjoy         1\n",
       "                                            Robb Stark                  9\n",
       "                                            Stannis Baratheon           2\n",
       "                  Robb Stark                Balon/Euron Greyjoy         1\n",
       "                                            Joffrey/Tommen Baratheon    7\n",
       "                  Stannis Baratheon         Balon/Euron Greyjoy         1\n",
       "                                            Renly Baratheon             1\n",
       "dtype: int64"
      ]
     },
     "execution_count": 61,
     "metadata": {},
     "output_type": "execute_result"
    }
   ],
   "source": [
    "battle_outcome=battles.groupby(['attacker_outcome', 'attacker_king', \n",
    "                                 'defender_king']).size()\n",
    "\n",
    "battle_outcome"
   ]
  },
  {
   "cell_type": "code",
   "execution_count": 107,
   "metadata": {},
   "outputs": [
    {
     "data": {
      "text/plain": [
       "<matplotlib.axes._subplots.AxesSubplot at 0x118a55128>"
      ]
     },
     "execution_count": 107,
     "metadata": {},
     "output_type": "execute_result"
    },
    {
     "data": {
      "image/png": "[encoded data removed]",
      "text/plain": [
       "<Figure size 432x288 with 1 Axes>"
      ]
     },
     "metadata": {},
     "output_type": "display_data"
    }
   ],
   "source": [
    "sns.set(style=\"white\")\n",
    "sns.scatterplot(x = battles['attacker_king'], y = battles['defender_king'],hue=battles['attacker_size'],\n",
    "                size  = battles['attacker_size'], data=battles)"
   ]
  },
  {
   "cell_type": "code",
   "execution_count": null,
   "metadata": {},
   "outputs": [],
   "source": [
    "ba"
   ]
  },
  {
   "cell_type": "code",
   "execution_count": null,
   "metadata": {},
   "outputs": [],
   "source": []
  },
  {
   "cell_type": "code",
   "execution_count": null,
   "metadata": {},
   "outputs": [],
   "source": []
  },
  {
   "cell_type": "code",
   "execution_count": 28,
   "metadata": {},
   "outputs": [
    {
     "data": {
      "text/plain": [
       "Gender  Death Year\n",
       "0       298.0           3\n",
       "        299.0          15\n",
       "        300.0          18\n",
       "        alive         121\n",
       "1       297.0           3\n",
       "        298.0          43\n",
       "        299.0         141\n",
       "        300.0          82\n",
       "        alive         491\n",
       "Name: Allegiances, dtype: int64"
      ]
     },
     "execution_count": 28,
     "metadata": {},
     "output_type": "execute_result"
    }
   ],
   "source": [
    "gender_death=deaths.groupby([\"Gender\", \"Death Year\"])['Allegiances'].size()\n",
    "gender_death"
   ]
  },
  {
   "cell_type": "code",
   "execution_count": 23,
   "metadata": {},
   "outputs": [
    {
     "data": {
      "text/html": [
       "<div>\n",
       "<style scoped>\n",
       "    .dataframe tbody tr th:only-of-type {\n",
       "        vertical-align: middle;\n",
       "    }\n",
       "\n",
       "    .dataframe tbody tr th {\n",
       "        vertical-align: top;\n",
       "    }\n",
       "\n",
       "    .dataframe thead th {\n",
       "        text-align: right;\n",
       "    }\n",
       "</style>\n",
       "<table border=\"1\" class=\"dataframe\">\n",
       "  <thead>\n",
       "    <tr style=\"text-align: right;\">\n",
       "      <th></th>\n",
       "      <th>attacker_king</th>\n",
       "      <th>defender_king</th>\n",
       "      <th>attacker_size</th>\n",
       "      <th>defender_size</th>\n",
       "    </tr>\n",
       "  </thead>\n",
       "  <tbody>\n",
       "    <tr>\n",
       "      <th>4</th>\n",
       "      <td>Joffrey/Tommen Baratheon</td>\n",
       "      <td>Robb Stark</td>\n",
       "      <td>8374.000000</td>\n",
       "      <td>5088.571429</td>\n",
       "    </tr>\n",
       "    <tr>\n",
       "      <th>5</th>\n",
       "      <td>Joffrey/Tommen Baratheon</td>\n",
       "      <td>Stannis Baratheon</td>\n",
       "      <td>2000.000000</td>\n",
       "      <td>200.000000</td>\n",
       "    </tr>\n",
       "    <tr>\n",
       "      <th>6</th>\n",
       "      <td>Robb Stark</td>\n",
       "      <td>Balon/Euron Greyjoy</td>\n",
       "      <td>244.000000</td>\n",
       "      <td>900.000000</td>\n",
       "    </tr>\n",
       "    <tr>\n",
       "      <th>7</th>\n",
       "      <td>Robb Stark</td>\n",
       "      <td>Joffrey/Tommen Baratheon</td>\n",
       "      <td>5853.571429</td>\n",
       "      <td>9745.000000</td>\n",
       "    </tr>\n",
       "    <tr>\n",
       "      <th>8</th>\n",
       "      <td>Stannis Baratheon</td>\n",
       "      <td>Balon/Euron Greyjoy</td>\n",
       "      <td>4500.000000</td>\n",
       "      <td>200.000000</td>\n",
       "    </tr>\n",
       "    <tr>\n",
       "      <th>9</th>\n",
       "      <td>Stannis Baratheon</td>\n",
       "      <td>Joffrey/Tommen Baratheon</td>\n",
       "      <td>13000.000000</td>\n",
       "      <td>7625.000000</td>\n",
       "    </tr>\n",
       "    <tr>\n",
       "      <th>10</th>\n",
       "      <td>Stannis Baratheon</td>\n",
       "      <td>Mance Rayder</td>\n",
       "      <td>100000.000000</td>\n",
       "      <td>1240.000000</td>\n",
       "    </tr>\n",
       "    <tr>\n",
       "      <th>11</th>\n",
       "      <td>Stannis Baratheon</td>\n",
       "      <td>Renly Baratheon</td>\n",
       "      <td>5000.000000</td>\n",
       "      <td>20000.000000</td>\n",
       "    </tr>\n",
       "  </tbody>\n",
       "</table>\n",
       "</div>"
      ],
      "text/plain": [
       "               attacker_king             defender_king  attacker_size  \\\n",
       "4   Joffrey/Tommen Baratheon                Robb Stark    8374.000000   \n",
       "5   Joffrey/Tommen Baratheon         Stannis Baratheon    2000.000000   \n",
       "6                 Robb Stark       Balon/Euron Greyjoy     244.000000   \n",
       "7                 Robb Stark  Joffrey/Tommen Baratheon    5853.571429   \n",
       "8          Stannis Baratheon       Balon/Euron Greyjoy    4500.000000   \n",
       "9          Stannis Baratheon  Joffrey/Tommen Baratheon   13000.000000   \n",
       "10         Stannis Baratheon              Mance Rayder  100000.000000   \n",
       "11         Stannis Baratheon           Renly Baratheon    5000.000000   \n",
       "\n",
       "    defender_size  \n",
       "4     5088.571429  \n",
       "5      200.000000  \n",
       "6      900.000000  \n",
       "7     9745.000000  \n",
       "8      200.000000  \n",
       "9     7625.000000  \n",
       "10    1240.000000  \n",
       "11   20000.000000  "
      ]
     },
     "execution_count": 23,
     "metadata": {},
     "output_type": "execute_result"
    }
   ],
   "source": [
    "attack_defend = battles.groupby(['attacker_king', \n",
    "                                 'defender_king'])['attacker_size', \n",
    "                                                   'defender_size'].mean().reset_index().dropna()\n",
    "attack_defend "
   ]
  },
  {
   "cell_type": "code",
   "execution_count": 22,
   "metadata": {},
   "outputs": [
    {
     "data": {
      "text/plain": [
       "<matplotlib.axes._subplots.AxesSubplot at 0x11655fd68>"
      ]
     },
     "execution_count": 22,
     "metadata": {},
     "output_type": "execute_result"
    },
    {
     "data": {
      "image/png": "[encoded data removed]",
      "text/plain": [
       "<Figure size 432x288 with 1 Axes>"
      ]
     },
     "metadata": {},
     "output_type": "display_data"
    }
   ],
   "source": [
    "sns.set(style=\"whitegrid\")\n",
    "sns.barplot(x= 'attacker_king',y='attacker_size', hue= 'defender_king', data=attack_defend)\n"
   ]
  },
  {
   "cell_type": "code",
   "execution_count": null,
   "metadata": {},
   "outputs": [],
   "source": []
  },
  {
   "cell_type": "code",
   "execution_count": null,
   "metadata": {},
   "outputs": [],
   "source": []
  },
  {
   "cell_type": "code",
   "execution_count": null,
   "metadata": {},
   "outputs": [],
   "source": []
  },
  {
   "cell_type": "code",
   "execution_count": null,
   "metadata": {},
   "outputs": [],
   "source": []
  },
  {
   "cell_type": "code",
   "execution_count": null,
   "metadata": {},
   "outputs": [],
   "source": []
  },
  {
   "cell_type": "code",
   "execution_count": null,
   "metadata": {},
   "outputs": [],
   "source": []
  },
  {
   "cell_type": "code",
   "execution_count": null,
   "metadata": {},
   "outputs": [],
   "source": []
  }
 ],
 "metadata": {
  "kernelspec": {
   "display_name": "Python 3",
   "language": "python",
   "name": "python3"
  },
  "language_info": {
   "codemirror_mode": {
    "name": "ipython",
    "version": 3
   },
   "file_extension": ".py",
   "mimetype": "text/x-python",
   "name": "python",
   "nbconvert_exporter": "python",
   "pygments_lexer": "ipython3",
   "version": "3.6.7"
  }
 },
 "nbformat": 4,
 "nbformat_minor": 2
}
